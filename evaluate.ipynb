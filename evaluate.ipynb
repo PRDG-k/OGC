{
 "cells": [
  {
   "cell_type": "code",
   "execution_count": 1,
   "metadata": {},
   "outputs": [],
   "source": [
    "%load_ext autoreload\n",
    "%autoreload 2\n",
    "\n",
    "from util import *\n",
    "from myalgorithm import algorithm"
   ]
  },
  {
   "cell_type": "code",
   "execution_count": 2,
   "metadata": {},
   "outputs": [],
   "source": [
    "import os\n",
    "\n",
    "file_name=  'STAGE1_1.json'\n",
    "\n",
    "problem_file = os.path.join(\"stage1_problems\", file_name)\n",
    "timelimit = 30\n",
    "\n",
    "\n",
    "with open(problem_file, 'r') as f:\n",
    "    prob = json.load(f)\n",
    "\n",
    "K = prob['K']\n",
    "\n",
    "ALL_ORDERS = [Order(order_info) for order_info in prob['ORDERS']]\n",
    "ALL_RIDERS = [Rider(rider_info) for rider_info in prob['RIDERS']]\n",
    "\n",
    "DIST = np.array(prob['DIST'])\n",
    "for r in ALL_RIDERS:\n",
    "    r.T = np.round(DIST/r.speed + r.service_time)"
   ]
  },
  {
   "cell_type": "code",
   "execution_count": 26,
   "metadata": {},
   "outputs": [
    {
     "data": {
      "text/plain": [
       "dict_keys(['id', 'order_time', 'shop_lat', 'shop_lon', 'dlv_lat', 'dlv_lon', 'cook_time', 'volume', 'deadline', 'ready_time'])"
      ]
     },
     "execution_count": 26,
     "metadata": {},
     "output_type": "execute_result"
    }
   ],
   "source": [
    "ALL_ORDERS[0].__dict__.keys()"
   ]
  },
  {
   "cell_type": "code",
   "execution_count": 65,
   "metadata": {},
   "outputs": [
    {
     "data": {
      "text/plain": [
       "{'type': 'BIKE',\n",
       " 'speed': 5.291005291005291,\n",
       " 'capa': 100,\n",
       " 'var_cost': 60,\n",
       " 'fixed_cost': 8000,\n",
       " 'service_time': 120,\n",
       " 'available_number': 20,\n",
       " 'T': array([[ 120.,  809., 1093., ..., 1703.,  784.,  730.],\n",
       "        [ 809.,  120.,  898., ..., 1386.,  548.,  709.],\n",
       "        [1093.,  898.,  120., ...,  731.,  498., 1403.],\n",
       "        ...,\n",
       "        [1703., 1386.,  731., ...,  120., 1072., 1952.],\n",
       "        [ 784.,  548.,  498., ..., 1072.,  120., 1025.],\n",
       "        [ 730.,  709., 1403., ..., 1952., 1025.,  120.]])}"
      ]
     },
     "execution_count": 65,
     "metadata": {},
     "output_type": "execute_result"
    }
   ],
   "source": [
    "ALL_RIDERS[0].__dict__"
   ]
  },
  {
   "cell_type": "code",
   "execution_count": 44,
   "metadata": {},
   "outputs": [
    {
     "name": "stderr",
     "output_type": "stream",
     "text": [
      "/var/folders/3l/z2_cjhyd20v1_yppby93tmnh0000gn/T/ipykernel_89132/4223044299.py:6: FutureWarning: The behavior of DataFrame concatenation with empty or all-NA entries is deprecated. In a future version, this will no longer exclude empty or all-NA columns when determining the result dtypes. To retain the old behavior, exclude the relevant entries before the concat operation.\n",
      "  ord_df = pd.concat([ord_df, pd.DataFrame([vars(row)])])\n"
     ]
    },
    {
     "data": {
      "text/html": [
       "<div>\n",
       "<style scoped>\n",
       "    .dataframe tbody tr th:only-of-type {\n",
       "        vertical-align: middle;\n",
       "    }\n",
       "\n",
       "    .dataframe tbody tr th {\n",
       "        vertical-align: top;\n",
       "    }\n",
       "\n",
       "    .dataframe thead th {\n",
       "        text-align: right;\n",
       "    }\n",
       "</style>\n",
       "<table border=\"1\" class=\"dataframe\">\n",
       "  <thead>\n",
       "    <tr style=\"text-align: right;\">\n",
       "      <th></th>\n",
       "      <th>id</th>\n",
       "      <th>order_time</th>\n",
       "      <th>shop_lat</th>\n",
       "      <th>shop_lon</th>\n",
       "      <th>dlv_lat</th>\n",
       "      <th>dlv_lon</th>\n",
       "      <th>cook_time</th>\n",
       "      <th>volume</th>\n",
       "      <th>deadline</th>\n",
       "      <th>ready_time</th>\n",
       "    </tr>\n",
       "  </thead>\n",
       "  <tbody>\n",
       "    <tr>\n",
       "      <th>0</th>\n",
       "      <td>0</td>\n",
       "      <td>28</td>\n",
       "      <td>35.997628</td>\n",
       "      <td>125.982584</td>\n",
       "      <td>35.995128</td>\n",
       "      <td>125.977870</td>\n",
       "      <td>600</td>\n",
       "      <td>21</td>\n",
       "      <td>2176</td>\n",
       "      <td>628</td>\n",
       "    </tr>\n",
       "    <tr>\n",
       "      <th>0</th>\n",
       "      <td>1</td>\n",
       "      <td>86</td>\n",
       "      <td>36.012988</td>\n",
       "      <td>126.004387</td>\n",
       "      <td>36.004457</td>\n",
       "      <td>126.004163</td>\n",
       "      <td>900</td>\n",
       "      <td>12</td>\n",
       "      <td>2680</td>\n",
       "      <td>986</td>\n",
       "    </tr>\n",
       "    <tr>\n",
       "      <th>0</th>\n",
       "      <td>2</td>\n",
       "      <td>118</td>\n",
       "      <td>35.991074</td>\n",
       "      <td>126.022580</td>\n",
       "      <td>35.984552</td>\n",
       "      <td>126.029739</td>\n",
       "      <td>600</td>\n",
       "      <td>22</td>\n",
       "      <td>2419</td>\n",
       "      <td>718</td>\n",
       "    </tr>\n",
       "    <tr>\n",
       "      <th>0</th>\n",
       "      <td>3</td>\n",
       "      <td>155</td>\n",
       "      <td>36.021098</td>\n",
       "      <td>126.019330</td>\n",
       "      <td>36.016537</td>\n",
       "      <td>126.019030</td>\n",
       "      <td>600</td>\n",
       "      <td>44</td>\n",
       "      <td>2303</td>\n",
       "      <td>755</td>\n",
       "    </tr>\n",
       "    <tr>\n",
       "      <th>0</th>\n",
       "      <td>4</td>\n",
       "      <td>156</td>\n",
       "      <td>36.018153</td>\n",
       "      <td>125.972029</td>\n",
       "      <td>36.017555</td>\n",
       "      <td>125.986989</td>\n",
       "      <td>900</td>\n",
       "      <td>16</td>\n",
       "      <td>2882</td>\n",
       "      <td>1056</td>\n",
       "    </tr>\n",
       "    <tr>\n",
       "      <th>...</th>\n",
       "      <td>...</td>\n",
       "      <td>...</td>\n",
       "      <td>...</td>\n",
       "      <td>...</td>\n",
       "      <td>...</td>\n",
       "      <td>...</td>\n",
       "      <td>...</td>\n",
       "      <td>...</td>\n",
       "      <td>...</td>\n",
       "      <td>...</td>\n",
       "    </tr>\n",
       "    <tr>\n",
       "      <th>0</th>\n",
       "      <td>95</td>\n",
       "      <td>3466</td>\n",
       "      <td>35.991851</td>\n",
       "      <td>125.992472</td>\n",
       "      <td>35.988031</td>\n",
       "      <td>125.993688</td>\n",
       "      <td>600</td>\n",
       "      <td>13</td>\n",
       "      <td>5591</td>\n",
       "      <td>4066</td>\n",
       "    </tr>\n",
       "    <tr>\n",
       "      <th>0</th>\n",
       "      <td>96</td>\n",
       "      <td>3474</td>\n",
       "      <td>36.016543</td>\n",
       "      <td>125.996638</td>\n",
       "      <td>36.018567</td>\n",
       "      <td>125.998289</td>\n",
       "      <td>900</td>\n",
       "      <td>28</td>\n",
       "      <td>5843</td>\n",
       "      <td>4374</td>\n",
       "    </tr>\n",
       "    <tr>\n",
       "      <th>0</th>\n",
       "      <td>97</td>\n",
       "      <td>3493</td>\n",
       "      <td>35.990046</td>\n",
       "      <td>126.040079</td>\n",
       "      <td>35.988455</td>\n",
       "      <td>126.048018</td>\n",
       "      <td>600</td>\n",
       "      <td>27</td>\n",
       "      <td>5717</td>\n",
       "      <td>4093</td>\n",
       "    </tr>\n",
       "    <tr>\n",
       "      <th>0</th>\n",
       "      <td>98</td>\n",
       "      <td>3496</td>\n",
       "      <td>36.001260</td>\n",
       "      <td>126.004988</td>\n",
       "      <td>35.999274</td>\n",
       "      <td>126.010367</td>\n",
       "      <td>1200</td>\n",
       "      <td>33</td>\n",
       "      <td>6252</td>\n",
       "      <td>4696</td>\n",
       "    </tr>\n",
       "    <tr>\n",
       "      <th>0</th>\n",
       "      <td>99</td>\n",
       "      <td>3513</td>\n",
       "      <td>36.017848</td>\n",
       "      <td>125.980583</td>\n",
       "      <td>36.018272</td>\n",
       "      <td>125.980529</td>\n",
       "      <td>1200</td>\n",
       "      <td>15</td>\n",
       "      <td>6109</td>\n",
       "      <td>4713</td>\n",
       "    </tr>\n",
       "  </tbody>\n",
       "</table>\n",
       "<p>100 rows × 10 columns</p>\n",
       "</div>"
      ],
      "text/plain": [
       "    id order_time   shop_lat    shop_lon    dlv_lat     dlv_lon cook_time  \\\n",
       "0    0         28  35.997628  125.982584  35.995128  125.977870       600   \n",
       "0    1         86  36.012988  126.004387  36.004457  126.004163       900   \n",
       "0    2        118  35.991074  126.022580  35.984552  126.029739       600   \n",
       "0    3        155  36.021098  126.019330  36.016537  126.019030       600   \n",
       "0    4        156  36.018153  125.972029  36.017555  125.986989       900   \n",
       "..  ..        ...        ...         ...        ...         ...       ...   \n",
       "0   95       3466  35.991851  125.992472  35.988031  125.993688       600   \n",
       "0   96       3474  36.016543  125.996638  36.018567  125.998289       900   \n",
       "0   97       3493  35.990046  126.040079  35.988455  126.048018       600   \n",
       "0   98       3496  36.001260  126.004988  35.999274  126.010367      1200   \n",
       "0   99       3513  36.017848  125.980583  36.018272  125.980529      1200   \n",
       "\n",
       "   volume deadline ready_time  \n",
       "0      21     2176        628  \n",
       "0      12     2680        986  \n",
       "0      22     2419        718  \n",
       "0      44     2303        755  \n",
       "0      16     2882       1056  \n",
       "..    ...      ...        ...  \n",
       "0      13     5591       4066  \n",
       "0      28     5843       4374  \n",
       "0      27     5717       4093  \n",
       "0      33     6252       4696  \n",
       "0      15     6109       4713  \n",
       "\n",
       "[100 rows x 10 columns]"
      ]
     },
     "execution_count": 44,
     "metadata": {},
     "output_type": "execute_result"
    }
   ],
   "source": [
    "import pandas as pd\n",
    "\n",
    "ord_df = pd.DataFrame(columns=ALL_ORDERS[0].__dict__.keys())\n",
    "\n",
    "for row in ALL_ORDERS:\n",
    "    ord_df = pd.concat([ord_df, pd.DataFrame([vars(row)])])\n",
    "\n",
    "\n",
    "ord_df"
   ]
  },
  {
   "cell_type": "code",
   "execution_count": null,
   "metadata": {},
   "outputs": [],
   "source": [
    "volume_eval = {}\n",
    "\n",
    "ord_df = ord_df.sort_values(by=\"volume\", ascending=False)\n",
    "\n",
    "for ord in ord_df:\n",
    "\n",
    "    volume_eval[ord.id] = "
   ]
  },
  {
   "cell_type": "code",
   "execution_count": 59,
   "metadata": {},
   "outputs": [
    {
     "data": {
      "text/plain": [
       "0.3     774.4\n",
       "0.6    1881.4\n",
       "0.9    3287.8\n",
       "Name: order_time, dtype: object"
      ]
     },
     "execution_count": 59,
     "metadata": {},
     "output_type": "execute_result"
    }
   ],
   "source": [
    "sector = ord_df.order_time.quantile([0.3 *i for i in  range(1, 4)])\n",
    "sector"
   ]
  },
  {
   "cell_type": "code",
   "execution_count": null,
   "metadata": {},
   "outputs": [],
   "source": []
  }
 ],
 "metadata": {
  "kernelspec": {
   "display_name": "Python 3",
   "language": "python",
   "name": "python3"
  },
  "language_info": {
   "codemirror_mode": {
    "name": "ipython",
    "version": 3
   },
   "file_extension": ".py",
   "mimetype": "text/x-python",
   "name": "python",
   "nbconvert_exporter": "python",
   "pygments_lexer": "ipython3",
   "version": "3.10.6"
  }
 },
 "nbformat": 4,
 "nbformat_minor": 2
}
